{
 "cells": [
  {
   "cell_type": "code",
   "execution_count": 18,
   "metadata": {
    "scrolled": true
   },
   "outputs": [],
   "source": [
    "import os, json\n",
    "import pandas as pd\n",
    "from pandas.io.json import json_normalize\n",
    "import glob\n",
    "path_to_json = 'C:/Users/srika/Downloads/altmetric_clean_sample/altmetric_clean_sample/'\n",
    "folders=[]\n",
    "for i in os.listdir(path_to_json):\n",
    "    folders.append('C:/Users/srika/Downloads/altmetric_clean_sample/altmetric_clean_sample/' + i)\n",
    "jf=[]\n",
    "for i in folders:\n",
    "    allFiles = glob.glob(i + \"/*.json\")\n",
    "    for j in allFiles:\n",
    "        jf.append(j)\n",
    "data=[]\n",
    "for index, js in enumerate(jf):\n",
    "    with open(os.path.join(path_to_json, js)) as json_file:\n",
    "        json_text = json.load(json_file)\n",
    "        data.append(json_text)"
   ]
  },
  {
   "cell_type": "code",
   "execution_count": 19,
   "metadata": {},
   "outputs": [
    {
     "data": {
      "text/plain": [
       "100000"
      ]
     },
     "execution_count": 19,
     "metadata": {},
     "output_type": "execute_result"
    }
   ],
   "source": [
    "len(data)"
   ]
  },
  {
   "cell_type": "code",
   "execution_count": 20,
   "metadata": {},
   "outputs": [
    {
     "data": {
      "text/plain": [
       "dict_keys(['altmetric_id', 'counts', 'selected_quotes', 'citation', 'altmetric_score', 'demographics', 'posts'])"
      ]
     },
     "execution_count": 20,
     "metadata": {},
     "output_type": "execute_result"
    }
   ],
   "source": [
    "data[0].keys()"
   ]
  },
  {
   "cell_type": "code",
   "execution_count": 21,
   "metadata": {},
   "outputs": [
    {
     "data": {
      "text/plain": [
       "dict_keys(['ads_id', 'altmetric_jid', 'authors', 'doi', 'endpage', 'handles', 'isbns', 'issns', 'issue', 'journal', 'last_mentioned_on', 'links', 'pdf_url', 'pmid', 'pubdate', 'publisher', 'scopus_subjects', 'startpage', 'subjects', 'title', 'type', 'uri', 'volume', 'mendeley_url'])"
      ]
     },
     "execution_count": 21,
     "metadata": {},
     "output_type": "execute_result"
    }
   ],
   "source": [
    "data[0]['citation'].keys()"
   ]
  },
  {
   "cell_type": "code",
   "execution_count": 22,
   "metadata": {},
   "outputs": [],
   "source": [
    "d =[]\n",
    "for i in range(len(data)):\n",
    "    try:\n",
    "        for j in range(len(data[i]['posts']['news'])):\n",
    "            x = data[i]['posts']['news'][j]['summary'].replace(\",\", \"\")\n",
    "            y = data[i]['posts']['news'][j]['title'].replace(\",\", \"\")\n",
    "            z = \" \".join(data[i]['citation']['scopus_subjects']).replace(\",\" , \"\")\n",
    "            d.append([x, y, z])\n",
    "    except KeyError:\n",
    "        continue\n",
    "    except TypeError:\n",
    "        continue"
   ]
  },
  {
   "cell_type": "code",
   "execution_count": 23,
   "metadata": {},
   "outputs": [],
   "source": [
    "for i in range(len(d)):\n",
    "    d[i][0] = d[i][0].replace(\"\\n\", \"\")\n",
    "    d[i][1] = d[i][1].replace(\"\\n\", \"\")"
   ]
  },
  {
   "cell_type": "code",
   "execution_count": 27,
   "metadata": {},
   "outputs": [
    {
     "data": {
      "text/plain": [
       "25970"
      ]
     },
     "execution_count": 27,
     "metadata": {},
     "output_type": "execute_result"
    }
   ],
   "source": [
    "len(d)"
   ]
  },
  {
   "cell_type": "code",
   "execution_count": 28,
   "metadata": {},
   "outputs": [],
   "source": [
    "for i in d:\n",
    "    if len(i) != 3:\n",
    "        print(i)"
   ]
  },
  {
   "cell_type": "code",
   "execution_count": 29,
   "metadata": {},
   "outputs": [],
   "source": [
    "file = open(\"data2.csv\",\"w\", encoding=\"utf-8\") "
   ]
  },
  {
   "cell_type": "code",
   "execution_count": 30,
   "metadata": {},
   "outputs": [],
   "source": [
    "for i in range(len(d)):\n",
    "    file.write(d[i][0] + ',' + d[i][1] + ',' + d[i][2] + '\\n')"
   ]
  },
  {
   "cell_type": "code",
   "execution_count": 31,
   "metadata": {},
   "outputs": [],
   "source": [
    "file.close()"
   ]
  }
 ],
 "metadata": {
  "kernelspec": {
   "display_name": "Python 3",
   "language": "python",
   "name": "python3"
  },
  "language_info": {
   "codemirror_mode": {
    "name": "ipython",
    "version": 3
   },
   "file_extension": ".py",
   "mimetype": "text/x-python",
   "name": "python",
   "nbconvert_exporter": "python",
   "pygments_lexer": "ipython3",
   "version": "3.6.8"
  }
 },
 "nbformat": 4,
 "nbformat_minor": 2
}
